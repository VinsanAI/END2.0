{
  "nbformat": 4,
  "nbformat_minor": 0,
  "metadata": {
    "colab": {
      "name": "END3.0_Assignment_2.5_pytorch.ipynb",
      "provenance": [],
      "collapsed_sections": []
    },
    "kernelspec": {
      "name": "python3",
      "display_name": "Python 3"
    },
    "language_info": {
      "name": "python"
    }
  },
  "cells": [
    {
      "cell_type": "markdown",
      "metadata": {
        "id": "Ftdc2inZn285"
      },
      "source": [
        "# Data Preparation :"
      ]
    },
    {
      "cell_type": "code",
      "metadata": {
        "colab": {
          "base_uri": "https://localhost:8080/"
        },
        "id": "rhYyCI3RmsBB",
        "outputId": "e39dcdb9-8bf2-4c67-9b9e-76c05cfdfa5d"
      },
      "source": [
        "import torch\n",
        "import torchvision\n",
        "import torchvision.transforms as transforms\n",
        "from torch.utils.data import Dataset\n",
        "\n",
        "import matplotlib.pyplot as plt\n",
        "import pandas as pd\n",
        "import numpy as np\n",
        "\n",
        "print(torch.__version__)\n",
        "\n",
        "mnist_trainset = torchvision.datasets.MNIST(\n",
        "                              root='./data', \n",
        "                              train=True, \n",
        "                              download=True, \n",
        "                              transform=transforms.Compose([\n",
        "                                  transforms.ToTensor()\n",
        "                              ])\n",
        "                  )"
      ],
      "execution_count": 379,
      "outputs": [
        {
          "output_type": "stream",
          "name": "stdout",
          "text": [
            "1.9.0+cu111\n"
          ]
        }
      ]
    },
    {
      "cell_type": "markdown",
      "metadata": {
        "id": "OXpEw-HoQsaJ"
      },
      "source": [
        "## Logic to get MNIST dataset into custom tensors :"
      ]
    },
    {
      "cell_type": "code",
      "metadata": {
        "id": "ybgUK2Kvb34x"
      },
      "source": [
        "def create_one_hotencoding_inp(x: int):\n",
        "  assert isinstance(x, int) or isinstance(x, np.int64) or isinstance(x, np.int32), \"input should be of datatype 'int'\"\n",
        "  assert x>=0 and x<=9, \"input should be between 0-9\"\n",
        "  base_arr = np.zeros(10)\n",
        "  base_arr[x] = 1\n",
        "  return base_arr\n",
        "\n",
        "# create_one_hotencoding_inp(\"2\")\n",
        "# create_one_hotencoding_inp(10)"
      ],
      "execution_count": 380,
      "outputs": []
    },
    {
      "cell_type": "code",
      "metadata": {
        "id": "GyXZl379E6gR"
      },
      "source": [
        "i=0\n",
        "i_max=10000\n",
        "lst_imgs = []\n",
        "lst_labels = []\n",
        "for img, label in mnist_trainset:\n",
        "  lst_imgs.append(img)\n",
        "  lst_labels.append(label)\n",
        "  i += 1\n",
        "  if i==i_max:\n",
        "    break;"
      ],
      "execution_count": 381,
      "outputs": []
    },
    {
      "cell_type": "code",
      "metadata": {
        "colab": {
          "base_uri": "https://localhost:8080/"
        },
        "id": "GOqMX6nkHPuH",
        "outputId": "1ec773ce-7810-4269-b75a-989c00c2ac52"
      },
      "source": [
        "# Checking class balance\n",
        "pd.Series(lst_labels).value_counts().sort_index()"
      ],
      "execution_count": 382,
      "outputs": [
        {
          "output_type": "execute_result",
          "data": {
            "text/plain": [
              "0    1001\n",
              "1    1127\n",
              "2     991\n",
              "3    1032\n",
              "4     980\n",
              "5     863\n",
              "6    1014\n",
              "7    1070\n",
              "8     944\n",
              "9     978\n",
              "dtype: int64"
            ]
          },
          "metadata": {},
          "execution_count": 382
        }
      ]
    },
    {
      "cell_type": "code",
      "metadata": {
        "colab": {
          "base_uri": "https://localhost:8080/"
        },
        "id": "94e7NAN5RBqX",
        "outputId": "2e1c74c4-0a42-4c7d-a0b1-28b6ffdd0456"
      },
      "source": [
        "inp_images = torch.stack(lst_imgs)\n",
        "inp_images.shape"
      ],
      "execution_count": 383,
      "outputs": [
        {
          "output_type": "execute_result",
          "data": {
            "text/plain": [
              "torch.Size([10000, 1, 28, 28])"
            ]
          },
          "metadata": {},
          "execution_count": 383
        }
      ]
    },
    {
      "cell_type": "code",
      "metadata": {
        "colab": {
          "base_uri": "https://localhost:8080/"
        },
        "id": "e8gRGhT-RS6p",
        "outputId": "12313a4e-c918-4fca-c436-bd38b807b11c"
      },
      "source": [
        "out_img_labels = torch.tensor(lst_labels)\n",
        "out_img_labels.shape"
      ],
      "execution_count": 384,
      "outputs": [
        {
          "output_type": "execute_result",
          "data": {
            "text/plain": [
              "torch.Size([10000])"
            ]
          },
          "metadata": {},
          "execution_count": 384
        }
      ]
    },
    {
      "cell_type": "code",
      "metadata": {
        "colab": {
          "base_uri": "https://localhost:8080/"
        },
        "id": "9pEKOWewRStF",
        "outputId": "0a59e299-173d-4008-f19c-c90646cdad08"
      },
      "source": [
        "inp_rand_np = np.random.randint(0,10,len(out_img_labels))\n",
        "print(f\"Number of unique values in my random set '{pd.Series(inp_rand_np).nunique()}'\")"
      ],
      "execution_count": 385,
      "outputs": [
        {
          "output_type": "stream",
          "name": "stdout",
          "text": [
            "Number of unique values in my random set '10'\n"
          ]
        }
      ]
    },
    {
      "cell_type": "code",
      "metadata": {
        "colab": {
          "base_uri": "https://localhost:8080/"
        },
        "id": "a2M9UWRARBoM",
        "outputId": "f0cca5a6-f3ba-4ad9-bc92-b82be26db99b"
      },
      "source": [
        "print(inp_images.shape)\n",
        "\n",
        "inp_rand = torch.tensor(inp_rand_np)\n",
        "print(inp_rand.shape)\n",
        "\n",
        "print(out_img_labels.shape)\n",
        "\n",
        "out_sum = inp_rand + out_img_labels\n",
        "print(out_sum.shape)"
      ],
      "execution_count": 386,
      "outputs": [
        {
          "output_type": "stream",
          "name": "stdout",
          "text": [
            "torch.Size([10000, 1, 28, 28])\n",
            "torch.Size([10000])\n",
            "torch.Size([10000])\n",
            "torch.Size([10000])\n"
          ]
        }
      ]
    },
    {
      "cell_type": "code",
      "metadata": {
        "colab": {
          "base_uri": "https://localhost:8080/"
        },
        "id": "HsyvpT-0bbkj",
        "outputId": "4384a3e6-b51c-45fa-88ca-cfe7f3f95515"
      },
      "source": [
        "inp_rand_ohe = torch.tensor([create_one_hotencoding_inp(x) for x in inp_rand_np])\n",
        "inp_rand_ohe.shape"
      ],
      "execution_count": 387,
      "outputs": [
        {
          "output_type": "execute_result",
          "data": {
            "text/plain": [
              "torch.Size([10000, 10])"
            ]
          },
          "metadata": {},
          "execution_count": 387
        }
      ]
    },
    {
      "cell_type": "code",
      "metadata": {
        "id": "1QVNfkFXFgFY"
      },
      "source": [
        "from torch.utils.data import Dataset\n",
        "\n",
        "class CustomMnistDataset(Dataset):\n",
        "  def __init__(self):\n",
        "    self.data = []\n",
        "    for i in range(0,len(out_sum)):\n",
        "      self.data.append([inp_images[i], inp_rand_ohe[i], out_img_labels[i], out_sum[i]])\n",
        "\n",
        "  def __getitem__(self, index):\n",
        "    return self.data[index]\n",
        "    \n",
        "  def __len__(self):\n",
        "    return len(self.data)"
      ],
      "execution_count": 388,
      "outputs": []
    },
    {
      "cell_type": "code",
      "metadata": {
        "id": "Za4dYy1lSRW_"
      },
      "source": [
        "myDataset = CustomMnistDataset()"
      ],
      "execution_count": 389,
      "outputs": []
    },
    {
      "cell_type": "code",
      "metadata": {
        "colab": {
          "base_uri": "https://localhost:8080/"
        },
        "id": "wGqK1DW9VSX5",
        "outputId": "cf258352-51d5-4ecf-c043-0053c8eba302"
      },
      "source": [
        "len(myDataset)"
      ],
      "execution_count": 390,
      "outputs": [
        {
          "output_type": "execute_result",
          "data": {
            "text/plain": [
              "10000"
            ]
          },
          "metadata": {},
          "execution_count": 390
        }
      ]
    },
    {
      "cell_type": "code",
      "metadata": {
        "id": "HXKK0eARSRR3"
      },
      "source": [
        "train_loader = torch.utils.data.DataLoader(myDataset\n",
        "    ,batch_size=100\n",
        "    ,shuffle=True\n",
        ")"
      ],
      "execution_count": 391,
      "outputs": []
    },
    {
      "cell_type": "code",
      "metadata": {
        "colab": {
          "base_uri": "https://localhost:8080/"
        },
        "id": "zXxyDl8JZl3e",
        "outputId": "1efe82ca-2502-4e26-bd06-d77149e3436b"
      },
      "source": [
        "len(train_loader)"
      ],
      "execution_count": 392,
      "outputs": [
        {
          "output_type": "execute_result",
          "data": {
            "text/plain": [
              "100"
            ]
          },
          "metadata": {},
          "execution_count": 392
        }
      ]
    },
    {
      "cell_type": "code",
      "metadata": {
        "colab": {
          "base_uri": "https://localhost:8080/"
        },
        "id": "i376ED-SSRQH",
        "outputId": "bd27aaa7-53a0-4adb-c630-65513a155b51"
      },
      "source": [
        "i=0\n",
        "for tr in train_loader:\n",
        "  print(tr[0].shape, tr[1].shape, tr[2].shape, tr[3].shape)\n",
        "  i+=1\n",
        "  if i==3:\n",
        "    break;"
      ],
      "execution_count": 400,
      "outputs": [
        {
          "output_type": "stream",
          "name": "stdout",
          "text": [
            "torch.Size([100, 1, 28, 28]) torch.Size([100, 10]) torch.Size([100]) torch.Size([100])\n",
            "torch.Size([100, 1, 28, 28]) torch.Size([100, 10]) torch.Size([100]) torch.Size([100])\n",
            "torch.Size([100, 1, 28, 28]) torch.Size([100, 10]) torch.Size([100]) torch.Size([100])\n"
          ]
        }
      ]
    },
    {
      "cell_type": "markdown",
      "metadata": {
        "id": "4yli7pGpvY5s"
      },
      "source": [
        "# Model Building :"
      ]
    },
    {
      "cell_type": "code",
      "metadata": {
        "id": "OL3NOIEInyc5"
      },
      "source": [
        "import torch.nn.functional as F\n",
        "import torch.nn as nn"
      ],
      "execution_count": 394,
      "outputs": []
    },
    {
      "cell_type": "code",
      "metadata": {
        "id": "3K5NLANk114C"
      },
      "source": [
        "class Network(nn.Module):\n",
        "  def __init__(self):\n",
        "    super().__init__()\n",
        "    self.conv1 = nn.Conv2d(in_channels=1, out_channels=6, kernel_size=5) \n",
        "    self.conv2 = nn.Conv2d(in_channels=6, out_channels=12, kernel_size=5)\n",
        "    self.fc1 = nn.Linear(in_features=(12 * 4 * 4)+10, out_features=120)\n",
        "    self.fc2 = nn.Linear(in_features=120, out_features=60)\n",
        "    self.out1 = nn.Linear(in_features=60, out_features=10)\n",
        "    self.out2 = nn.Linear(in_features=60, out_features=19)\n",
        "  \n",
        "  def forward(self, t1, t2):\n",
        "    # input layer\n",
        "    x, y = t1, t2\n",
        "\n",
        "    # conv1 layer\n",
        "    x = self.conv1(x)\n",
        "    x = F.relu(x)\n",
        "    x = F.max_pool2d(x, kernel_size=2, stride=2) # 28 | 24 | 12\n",
        "\n",
        "    # conv2 layer\n",
        "    x = self.conv2(x)\n",
        "    x = F.relu(x)\n",
        "    x = F.max_pool2d(x, kernel_size=2, stride=2) # 12 | 8 | 4 >> 12x4x4\n",
        "\n",
        "    # reshapre\n",
        "    x = x.reshape(-1, 12 * 4 * 4)\n",
        "    z = torch.cat((x,y.reshape(-1,10)), dim=1)\n",
        "    \n",
        "    # fc1 layer\n",
        "    z = self.fc1(z)\n",
        "    z = F.relu(z)\n",
        "\n",
        "    # fc2 layer\n",
        "    z = self.fc2(z)\n",
        "    z = F.relu(z)\n",
        "\n",
        "    # output layer\n",
        "    o1 = self.out1(z)\n",
        "    o1 = F.softmax(o1, dim=1)\n",
        "\n",
        "    # output layer\n",
        "    o2 = self.out2(z)\n",
        "    o2 = F.softmax(o2, dim=1)\n",
        "    return o1, o2"
      ],
      "execution_count": 395,
      "outputs": []
    },
    {
      "cell_type": "code",
      "metadata": {
        "colab": {
          "base_uri": "https://localhost:8080/"
        },
        "id": "INpFWsIg47BJ",
        "outputId": "2352f0fe-61f9-49c9-9a3f-05061671305d"
      },
      "source": [
        "network = Network()\n",
        "\n",
        "print(network)"
      ],
      "execution_count": 396,
      "outputs": [
        {
          "output_type": "stream",
          "name": "stdout",
          "text": [
            "Network(\n",
            "  (conv1): Conv2d(1, 6, kernel_size=(5, 5), stride=(1, 1))\n",
            "  (conv2): Conv2d(6, 12, kernel_size=(5, 5), stride=(1, 1))\n",
            "  (fc1): Linear(in_features=202, out_features=120, bias=True)\n",
            "  (fc2): Linear(in_features=120, out_features=60, bias=True)\n",
            "  (out1): Linear(in_features=60, out_features=10, bias=True)\n",
            "  (out2): Linear(in_features=60, out_features=19, bias=True)\n",
            ")\n"
          ]
        }
      ]
    },
    {
      "cell_type": "code",
      "metadata": {
        "colab": {
          "base_uri": "https://localhost:8080/"
        },
        "id": "AcZHjEdl5OVo",
        "outputId": "d7e818e3-a6dc-4abc-c3d3-21999af4bae8"
      },
      "source": [
        "import torch.optim as optim\n",
        "\n",
        "torch.set_grad_enabled(True)"
      ],
      "execution_count": 397,
      "outputs": [
        {
          "output_type": "execute_result",
          "data": {
            "text/plain": [
              "<torch.autograd.grad_mode.set_grad_enabled at 0x7f12951c6ed0>"
            ]
          },
          "metadata": {},
          "execution_count": 397
        }
      ]
    },
    {
      "cell_type": "code",
      "metadata": {
        "id": "Iev6EmMhd2Pm"
      },
      "source": [
        "def get_num_correct(preds, labels):\n",
        "  return preds.argmax(dim=1).eq(labels).sum().item()"
      ],
      "execution_count": 398,
      "outputs": []
    },
    {
      "cell_type": "code",
      "metadata": {
        "colab": {
          "base_uri": "https://localhost:8080/"
        },
        "id": "38jIyDf-cZ3T",
        "outputId": "2d47b72d-7250-4833-8310-ce7a054badd2"
      },
      "source": [
        "optimizer = optim.Adam(network.parameters(), lr=0.01)\n",
        "\n",
        "for epoch in range(10):\n",
        "\n",
        "    total_loss = 0\n",
        "    total_correct_labels = 0\n",
        "    total_correct_sum = 0\n",
        "\n",
        "    for batch in train_loader: # Get Batch\n",
        "        i_images, i_rand, o_labels, o_sum = batch \n",
        "\n",
        "        preds_labels, preds_sum = network(i_images, i_rand.float()) # Pass Batch\n",
        "        loss1 = F.cross_entropy(preds_labels, o_labels) # Calculate Loss\n",
        "        loss2 = F.cross_entropy(preds_sum, o_sum) # Calculate Loss\n",
        "        loss = loss1 + loss2\n",
        "\n",
        "        optimizer.zero_grad()\n",
        "        loss.backward() # Calculate Gradients\n",
        "        optimizer.step() # Update Weights\n",
        "\n",
        "        total_loss += loss.item()\n",
        "        total_correct_labels += get_num_correct(preds_labels, o_labels)\n",
        "        total_correct_sum += get_num_correct(preds_sum, o_sum)\n",
        "\n",
        "    print(\n",
        "        \"epoch\", epoch, \n",
        "        \"total_correct_labels:\", total_correct_labels, \n",
        "        \"total_correct_sum:\", total_correct_sum, \n",
        "        \"loss:\", total_loss\n",
        "    )"
      ],
      "execution_count": 399,
      "outputs": [
        {
          "output_type": "stream",
          "name": "stdout",
          "text": [
            "epoch 0 total_correct_labels: 5551 total_correct_sum: 926 loss: 483.2493739128113\n",
            "epoch 1 total_correct_labels: 8133 total_correct_sum: 916 loss: 458.5680203437805\n",
            "epoch 2 total_correct_labels: 9146 total_correct_sum: 899 loss: 448.76365900039673\n",
            "epoch 3 total_correct_labels: 9052 total_correct_sum: 881 loss: 449.88876485824585\n",
            "epoch 4 total_correct_labels: 9279 total_correct_sum: 909 loss: 447.25404691696167\n",
            "epoch 5 total_correct_labels: 9196 total_correct_sum: 915 loss: 448.053747177124\n",
            "epoch 6 total_correct_labels: 9285 total_correct_sum: 903 loss: 447.3347878456116\n",
            "epoch 7 total_correct_labels: 9325 total_correct_sum: 883 loss: 447.1517286300659\n",
            "epoch 8 total_correct_labels: 9044 total_correct_sum: 899 loss: 449.80251693725586\n",
            "epoch 9 total_correct_labels: 8951 total_correct_sum: 902 loss: 450.6666383743286\n"
          ]
        }
      ]
    }
  ]
}