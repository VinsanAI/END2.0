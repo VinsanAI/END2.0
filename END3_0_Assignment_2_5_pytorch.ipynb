{
  "nbformat": 4,
  "nbformat_minor": 0,
  "metadata": {
    "colab": {
      "name": "END3_0_Assignment_2_5_pytorch.ipynb",
      "provenance": [],
      "collapsed_sections": []
    },
    "kernelspec": {
      "name": "python3",
      "display_name": "Python 3"
    },
    "language_info": {
      "name": "python"
    }
  },
  "cells": [
    {
      "cell_type": "markdown",
      "metadata": {
        "id": "Ftdc2inZn285"
      },
      "source": [
        "# Imports and Data Download :"
      ]
    },
    {
      "cell_type": "code",
      "metadata": {
        "colab": {
          "base_uri": "https://localhost:8080/"
        },
        "id": "rhYyCI3RmsBB",
        "outputId": "e05c9506-37f9-44bc-ced4-ffbbff69baaa"
      },
      "source": [
        "import torch\n",
        "import torchvision\n",
        "import torchvision.transforms as transforms\n",
        "from torch.utils.data import Dataset\n",
        "\n",
        "import matplotlib.pyplot as plt\n",
        "import pandas as pd\n",
        "import numpy as np\n",
        "\n",
        "print(torch.__version__)\n",
        "\n",
        "mnist_trainset = torchvision.datasets.MNIST(\n",
        "                              root='./data', \n",
        "                              train=True, \n",
        "                              download=True, \n",
        "                              transform=transforms.Compose([\n",
        "                                  transforms.ToTensor()\n",
        "                              ])\n",
        "                  )"
      ],
      "execution_count": 59,
      "outputs": [
        {
          "output_type": "stream",
          "name": "stdout",
          "text": [
            "1.9.0+cu111\n"
          ]
        }
      ]
    },
    {
      "cell_type": "markdown",
      "metadata": {
        "id": "OXpEw-HoQsaJ"
      },
      "source": [
        "# Data Preparation :\n",
        "* This code contains logic to create the "
      ]
    },
    {
      "cell_type": "code",
      "metadata": {
        "id": "ybgUK2Kvb34x"
      },
      "source": [
        "def create_one_hotencoding_inp(x: int):\n",
        "  \"\"\"\n",
        "  This function allows user to convert the input number (between 0 to 9) \n",
        "  in to one hot encoded vector of size 10.\n",
        "  input : x = number between 0-9\n",
        "  output : base_arr = one hot encoded vector with 10 list elements\n",
        "  \"\"\"\n",
        "  assert isinstance(x, int) or isinstance(x, np.int64) or isinstance(x, np.int32), \"input should be of datatype 'int'\"\n",
        "  assert x>=0 and x<=9, \"input should be between 0-9\"\n",
        "  base_arr = np.zeros(10)\n",
        "  base_arr[x] = 1\n",
        "  return base_arr\n",
        "\n",
        "# create_one_hotencoding_inp(\"2\")  # Error checking for string input\n",
        "# create_one_hotencoding_inp(10) # Error checking for number not in range 0-9"
      ],
      "execution_count": 60,
      "outputs": []
    },
    {
      "cell_type": "code",
      "metadata": {
        "id": "GyXZl379E6gR",
        "colab": {
          "base_uri": "https://localhost:8080/"
        },
        "outputId": "4a94d4c9-99a9-4284-f7bc-cc2eeceda721"
      },
      "source": [
        "def extract_images_and_labels(num_obs: int, mnist_trainset):\n",
        "  i=0\n",
        "  i_max=int(num_obs)\n",
        "  lst_imgs = []\n",
        "  lst_labels = []\n",
        "  for img, label in mnist_trainset:\n",
        "    lst_imgs.append(img)\n",
        "    lst_labels.append(label)\n",
        "    i += 1\n",
        "    if i==i_max:\n",
        "      break;\n",
        "\n",
        "  # Checking class distribution\n",
        "  df_class_distro = pd.DataFrame(pd.Series(lst_labels).value_counts().sort_index(), columns=['count_labels']).reset_index()\n",
        "  df_class_distro.rename({'index':'class_label'}, axis=1, inplace=True)\n",
        "  print(f\"Printing class distibution below : \\n{df_class_distro}\")\n",
        "  return(lst_imgs, lst_labels)\n",
        "\n",
        "lst_imgs, lst_labels = extract_images_and_labels(30000, mnist_trainset)\n",
        "print(len(lst_imgs))\n",
        "print(len(lst_labels))"
      ],
      "execution_count": 61,
      "outputs": [
        {
          "output_type": "stream",
          "name": "stdout",
          "text": [
            "Printing class distibution below : \n",
            "   class_label  count_labels\n",
            "0            0          2961\n",
            "1            1          3423\n",
            "2            2          2948\n",
            "3            3          3073\n",
            "4            4          2926\n",
            "5            5          2709\n",
            "6            6          2975\n",
            "7            7          3107\n",
            "8            8          2875\n",
            "9            9          3003\n",
            "30000\n",
            "30000\n"
          ]
        }
      ]
    },
    {
      "cell_type": "code",
      "metadata": {
        "colab": {
          "base_uri": "https://localhost:8080/"
        },
        "id": "94e7NAN5RBqX",
        "outputId": "fb7b0e2a-3eaf-4382-914b-907c241f4fc4"
      },
      "source": [
        "def prepare_my_dataset(lst_imgs: list, lst_labels: list):\n",
        "  \"\"\"\n",
        "  This function will prepare the dataset as per the below requirement :\n",
        "  Creates the tensor of input images\n",
        "  Creates the random input numbers same as size of input images & creates the one hot encoded vectors of each obs\n",
        "  Creates the tensor of output image labels\n",
        "  Creates the target sum which is sum of input random number and image label\n",
        "  \"\"\"\n",
        "  inp_images = torch.stack(lst_imgs)\n",
        "  out_img_labels = torch.tensor(lst_labels)\n",
        "\n",
        "  i = 0\n",
        "  while i!=10:\n",
        "    inp_rand_np = np.random.randint(0,10,len(out_img_labels))\n",
        "    i = pd.Series(inp_rand_np).nunique()\n",
        "    print(f\"Number of unique values in my random set '{i}'\")\n",
        "\n",
        "  inp_rand = torch.tensor(inp_rand_np)\n",
        "  out_sum = inp_rand + out_img_labels\n",
        "\n",
        "  inp_rand_ohe = torch.tensor([create_one_hotencoding_inp(x) for x in inp_rand_np])\n",
        "  return(inp_images, inp_rand_ohe, out_img_labels, out_sum)\n",
        "\n",
        "inp_images, inp_rand_ohe, out_img_labels, out_sum = prepare_my_dataset(lst_imgs, lst_labels)\n",
        "print(inp_images.shape)\n",
        "print(inp_rand_ohe.shape)\n",
        "print(out_img_labels.shape)\n",
        "print(out_sum.shape)"
      ],
      "execution_count": 62,
      "outputs": [
        {
          "output_type": "stream",
          "name": "stdout",
          "text": [
            "Number of unique values in my random set '10'\n",
            "torch.Size([30000, 1, 28, 28])\n",
            "torch.Size([30000, 10])\n",
            "torch.Size([30000])\n",
            "torch.Size([30000])\n"
          ]
        }
      ]
    },
    {
      "cell_type": "code",
      "metadata": {
        "id": "1QVNfkFXFgFY",
        "colab": {
          "base_uri": "https://localhost:8080/"
        },
        "outputId": "8f510eac-e04a-4e0c-945a-697fb17b70cc"
      },
      "source": [
        "from torch.utils.data import Dataset\n",
        "\n",
        "# Creating the Custom dataset using previously created data so that we can use this dataset object to create batches later\n",
        "class CustomMnistDataset(Dataset):\n",
        "  def __init__(self):\n",
        "    self.data = []\n",
        "    for i in range(0,len(out_sum)):\n",
        "      self.data.append([inp_images[i], inp_rand_ohe[i], out_img_labels[i], out_sum[i]])\n",
        "\n",
        "  def __getitem__(self, index):\n",
        "    return self.data[index]\n",
        "    \n",
        "  def __len__(self):\n",
        "    return len(self.data)\n",
        "\n",
        "myDataset = CustomMnistDataset()\n",
        "len(myDataset)"
      ],
      "execution_count": 63,
      "outputs": [
        {
          "output_type": "execute_result",
          "data": {
            "text/plain": [
              "30000"
            ]
          },
          "metadata": {},
          "execution_count": 63
        }
      ]
    },
    {
      "cell_type": "code",
      "metadata": {
        "id": "HXKK0eARSRR3",
        "colab": {
          "base_uri": "https://localhost:8080/"
        },
        "outputId": "14485d7a-4422-497e-beea-910556a2d8c2"
      },
      "source": [
        "# creating train_loader so that we can load data in batches while training\n",
        "train_loader = torch.utils.data.DataLoader(myDataset\n",
        "    ,batch_size=100\n",
        "    ,shuffle=True\n",
        ")\n",
        "\n",
        "len(train_loader)"
      ],
      "execution_count": 64,
      "outputs": [
        {
          "output_type": "execute_result",
          "data": {
            "text/plain": [
              "300"
            ]
          },
          "metadata": {},
          "execution_count": 64
        }
      ]
    },
    {
      "cell_type": "code",
      "metadata": {
        "colab": {
          "base_uri": "https://localhost:8080/"
        },
        "id": "i376ED-SSRQH",
        "outputId": "72fdb935-52d9-4c8e-aa3a-e30c8f74b1de"
      },
      "source": [
        "# Printing the size of first 3 batches\n",
        "i=0\n",
        "for tr in train_loader:\n",
        "  print(tr[0].shape, tr[1].shape, tr[2].shape, tr[3].shape)\n",
        "  i+=1\n",
        "  if i==3:\n",
        "    break;"
      ],
      "execution_count": 65,
      "outputs": [
        {
          "output_type": "stream",
          "name": "stdout",
          "text": [
            "torch.Size([100, 1, 28, 28]) torch.Size([100, 10]) torch.Size([100]) torch.Size([100])\n",
            "torch.Size([100, 1, 28, 28]) torch.Size([100, 10]) torch.Size([100]) torch.Size([100])\n",
            "torch.Size([100, 1, 28, 28]) torch.Size([100, 10]) torch.Size([100]) torch.Size([100])\n"
          ]
        }
      ]
    },
    {
      "cell_type": "markdown",
      "metadata": {
        "id": "4yli7pGpvY5s"
      },
      "source": [
        "# Model Building :"
      ]
    },
    {
      "cell_type": "code",
      "metadata": {
        "id": "OL3NOIEInyc5"
      },
      "source": [
        "import torch.nn.functional as F\n",
        "import torch.nn as nn"
      ],
      "execution_count": 66,
      "outputs": []
    },
    {
      "cell_type": "code",
      "metadata": {
        "id": "3K5NLANk114C"
      },
      "source": [
        "class Network(nn.Module):\n",
        "  def __init__(self):\n",
        "    super().__init__()\n",
        "    #28 - > 24 - > 12 -> 8 -> 4\n",
        "    self.conv1 = nn.Conv2d(in_channels=1, out_channels=6, kernel_size=5) \n",
        "    self.conv2 = nn.Conv2d(in_channels=6, out_channels=12, kernel_size=5)\n",
        "    self.fc1 = nn.Linear(in_features=(12 * 4 * 4)+10, out_features=120)\n",
        "    self.fc2 = nn.Linear(in_features=120, out_features=60)\n",
        "    self.out1 = nn.Linear(in_features=60, out_features=10)\n",
        "    self.out2 = nn.Linear(in_features=60, out_features=19)\n",
        "  \n",
        "  def forward(self, t1, t2):\n",
        "    # input layer\n",
        "    x, y = t1, t2\n",
        "\n",
        "    # conv1 layer\n",
        "    x = self.conv1(x)\n",
        "    x = F.relu(x)\n",
        "    x = F.max_pool2d(x, kernel_size=2, stride=2) # 28 | 24 | 12\n",
        "\n",
        "    # conv2 layer\n",
        "    x = self.conv2(x)\n",
        "    x = F.relu(x)\n",
        "    x = F.max_pool2d(x, kernel_size=2, stride=2) # 12 | 8 | 4 >> 12x4x4\n",
        "\n",
        "    # reshapre\n",
        "    x = x.reshape(-1, 12 * 4 * 4)\n",
        "    z = torch.cat((x,y.reshape(-1,10)), dim=1)\n",
        "    \n",
        "    # fc1 layer\n",
        "    z = self.fc1(z)\n",
        "    z = F.relu(z)\n",
        "\n",
        "    # fc2 layer\n",
        "    z = self.fc2(z)\n",
        "    z = F.relu(z)\n",
        "\n",
        "    # output layer 1\n",
        "    o1 = self.out1(z)\n",
        "    o1 = F.softmax(o1, dim=1)\n",
        "\n",
        "    # output layer 2\n",
        "    o2 = self.out2(z)\n",
        "    o2 = F.softmax(o2, dim=1)\n",
        "    return o1, o2"
      ],
      "execution_count": 67,
      "outputs": []
    },
    {
      "cell_type": "code",
      "metadata": {
        "colab": {
          "base_uri": "https://localhost:8080/"
        },
        "id": "INpFWsIg47BJ",
        "outputId": "61d11b97-e836-448a-c87d-4bc8f712f82e"
      },
      "source": [
        "network = Network()\n",
        "\n",
        "print(network)"
      ],
      "execution_count": 68,
      "outputs": [
        {
          "output_type": "stream",
          "name": "stdout",
          "text": [
            "Network(\n",
            "  (conv1): Conv2d(1, 6, kernel_size=(5, 5), stride=(1, 1))\n",
            "  (conv2): Conv2d(6, 12, kernel_size=(5, 5), stride=(1, 1))\n",
            "  (fc1): Linear(in_features=202, out_features=120, bias=True)\n",
            "  (fc2): Linear(in_features=120, out_features=60, bias=True)\n",
            "  (out1): Linear(in_features=60, out_features=10, bias=True)\n",
            "  (out2): Linear(in_features=60, out_features=19, bias=True)\n",
            ")\n"
          ]
        }
      ]
    },
    {
      "cell_type": "code",
      "metadata": {
        "colab": {
          "base_uri": "https://localhost:8080/"
        },
        "id": "AcZHjEdl5OVo",
        "outputId": "0be9dd40-5dc6-4550-b609-886bfed00ff9"
      },
      "source": [
        "import torch.optim as optim\n",
        "\n",
        "torch.set_grad_enabled(True)"
      ],
      "execution_count": 69,
      "outputs": [
        {
          "output_type": "execute_result",
          "data": {
            "text/plain": [
              "<torch.autograd.grad_mode.set_grad_enabled at 0x7f07c08025d0>"
            ]
          },
          "metadata": {},
          "execution_count": 69
        }
      ]
    },
    {
      "cell_type": "code",
      "metadata": {
        "id": "Iev6EmMhd2Pm"
      },
      "source": [
        "def get_num_correct(preds, labels):\n",
        "  return preds.argmax(dim=1).eq(labels).sum().item()"
      ],
      "execution_count": 70,
      "outputs": []
    },
    {
      "cell_type": "code",
      "metadata": {
        "colab": {
          "base_uri": "https://localhost:8080/"
        },
        "id": "38jIyDf-cZ3T",
        "outputId": "11c6aca1-7b0e-4f5c-afc7-fe281b58ab61"
      },
      "source": [
        "optimizer = optim.Adam(network.parameters(), lr=0.01)\n",
        "\n",
        "for epoch in range(10):\n",
        "\n",
        "    total_loss = 0\n",
        "    total_correct_labels = 0\n",
        "    total_correct_sum = 0\n",
        "\n",
        "    for batch in train_loader: # Get Batch\n",
        "        i_images, i_rand, o_labels, o_sum = batch \n",
        "\n",
        "        preds_labels, preds_sum = network(i_images, i_rand.float()) # Pass Batch\n",
        "        loss1 = F.cross_entropy(preds_labels, o_labels) # Calculate Loss\n",
        "        loss2 = F.cross_entropy(preds_sum, o_sum) # Calculate Loss\n",
        "        loss = loss1 + loss2\n",
        "\n",
        "        optimizer.zero_grad()\n",
        "        loss.backward() # Calculate Gradients\n",
        "        optimizer.step() # Update Weights\n",
        "\n",
        "        total_loss += loss.item()\n",
        "        total_correct_labels += get_num_correct(preds_labels, o_labels)\n",
        "        total_correct_sum += get_num_correct(preds_sum, o_sum)\n",
        "\n",
        "    print(\n",
        "        \"epoch\", epoch, \n",
        "        \"total_correct_labels:\", total_correct_labels, \n",
        "        \"total_correct_sum:\", total_correct_sum, \n",
        "        \"loss:\", total_loss\n",
        "    )"
      ],
      "execution_count": 71,
      "outputs": [
        {
          "output_type": "stream",
          "name": "stdout",
          "text": [
            "epoch 0 total_correct_labels: 24274 total_correct_sum: 2986 loss: 1373.3529806137085\n",
            "epoch 1 total_correct_labels: 27484 total_correct_sum: 3051 loss: 1342.14302444458\n",
            "epoch 2 total_correct_labels: 27451 total_correct_sum: 3083 loss: 1342.2798962593079\n",
            "epoch 3 total_correct_labels: 25971 total_correct_sum: 3041 loss: 1357.4546599388123\n",
            "epoch 4 total_correct_labels: 23675 total_correct_sum: 3010 loss: 1380.752944469452\n",
            "epoch 5 total_correct_labels: 26626 total_correct_sum: 3081 loss: 1350.5772757530212\n",
            "epoch 6 total_correct_labels: 25553 total_correct_sum: 3096 loss: 1361.1561498641968\n",
            "epoch 7 total_correct_labels: 24234 total_correct_sum: 2999 loss: 1375.3053560256958\n",
            "epoch 8 total_correct_labels: 26422 total_correct_sum: 3033 loss: 1353.0957169532776\n",
            "epoch 9 total_correct_labels: 25102 total_correct_sum: 3073 loss: 1365.8992285728455\n"
          ]
        }
      ]
    }
  ]
}