{
  "nbformat": 4,
  "nbformat_minor": 0,
  "metadata": {
    "colab": {
      "name": "END3_0_Assignment_2_5_pytorch.ipynb",
      "provenance": [],
      "collapsed_sections": []
    },
    "kernelspec": {
      "name": "python3",
      "display_name": "Python 3"
    },
    "language_info": {
      "name": "python"
    },
    "accelerator": "GPU"
  },
  "cells": [
    {
      "cell_type": "markdown",
      "metadata": {
        "id": "Ftdc2inZn285"
      },
      "source": [
        "# Imports and Data Download :"
      ]
    },
    {
      "cell_type": "code",
      "metadata": {
        "colab": {
          "base_uri": "https://localhost:8080/"
        },
        "id": "rhYyCI3RmsBB",
        "outputId": "ba2dd9c1-faec-424f-f263-caeadb879ede"
      },
      "source": [
        "import torch\n",
        "import torchvision\n",
        "import torchvision.transforms as transforms\n",
        "from torch.utils.data import Dataset\n",
        "\n",
        "import matplotlib.pyplot as plt\n",
        "import pandas as pd\n",
        "import numpy as np\n",
        "\n",
        "print(torch.__version__)\n",
        "\n",
        "mnist_trainset = torchvision.datasets.MNIST(\n",
        "                              root='./data', \n",
        "                              train=True, \n",
        "                              download=True, \n",
        "                              transform=transforms.Compose([\n",
        "                                  transforms.ToTensor()\n",
        "                              ])\n",
        "                  )"
      ],
      "execution_count": 1,
      "outputs": [
        {
          "output_type": "stream",
          "name": "stdout",
          "text": [
            "1.9.0+cu111\n"
          ]
        },
        {
          "output_type": "stream",
          "name": "stderr",
          "text": [
            "/usr/local/lib/python3.7/dist-packages/torchvision/datasets/mnist.py:498: UserWarning: The given NumPy array is not writeable, and PyTorch does not support non-writeable tensors. This means you can write to the underlying (supposedly non-writeable) NumPy array using the tensor. You may want to copy the array to protect its data or make it writeable before converting it to a tensor. This type of warning will be suppressed for the rest of this program. (Triggered internally at  /pytorch/torch/csrc/utils/tensor_numpy.cpp:180.)\n",
            "  return torch.from_numpy(parsed.astype(m[2], copy=False)).view(*s)\n"
          ]
        }
      ]
    },
    {
      "cell_type": "markdown",
      "metadata": {
        "id": "OXpEw-HoQsaJ"
      },
      "source": [
        "# Data Preparation :\n",
        "* This code contains logic to create the "
      ]
    },
    {
      "cell_type": "code",
      "metadata": {
        "id": "ybgUK2Kvb34x"
      },
      "source": [
        "def create_one_hotencoding_inp(x: int):\n",
        "  \"\"\"\n",
        "  This function allows user to convert the input number (between 0 to 9) \n",
        "  in to one hot encoded vector of size 10.\n",
        "  input : x = number between 0-9\n",
        "  output : base_arr = one hot encoded vector with 10 list elements\n",
        "  \"\"\"\n",
        "  assert isinstance(x, int) or isinstance(x, np.int64) or isinstance(x, np.int32), \"input should be of datatype 'int'\"\n",
        "  assert x>=0 and x<=9, \"input should be between 0-9\"\n",
        "  base_arr = np.zeros(10)\n",
        "  base_arr[x] = 1\n",
        "  return base_arr\n",
        "\n",
        "# create_one_hotencoding_inp(\"2\")  # Error checking for string input\n",
        "# create_one_hotencoding_inp(10) # Error checking for number not in range 0-9"
      ],
      "execution_count": 2,
      "outputs": []
    },
    {
      "cell_type": "code",
      "metadata": {
        "id": "GyXZl379E6gR",
        "colab": {
          "base_uri": "https://localhost:8080/"
        },
        "outputId": "e28a9d0f-3c56-4686-9977-d67f09e0c43f"
      },
      "source": [
        "def extract_images_and_labels(num_obs: int, mnist_trainset):\n",
        "  i=0\n",
        "  i_max=int(num_obs)\n",
        "  lst_imgs = []\n",
        "  lst_labels = []\n",
        "  for img, label in mnist_trainset:\n",
        "    lst_imgs.append(img)\n",
        "    lst_labels.append(label)\n",
        "    i += 1\n",
        "    if i==i_max:\n",
        "      break;\n",
        "\n",
        "  # Checking class distribution\n",
        "  df_class_distro = pd.DataFrame(pd.Series(lst_labels).value_counts().sort_index(), columns=['count_labels']).reset_index()\n",
        "  df_class_distro.rename({'index':'class_label'}, axis=1, inplace=True)\n",
        "  print(f\"Printing class distibution below : \\n{df_class_distro}\")\n",
        "  return(lst_imgs, lst_labels)\n",
        "\n",
        "lst_imgs, lst_labels = extract_images_and_labels(30000, mnist_trainset)\n",
        "print(len(lst_imgs))\n",
        "print(len(lst_labels))"
      ],
      "execution_count": 3,
      "outputs": [
        {
          "output_type": "stream",
          "name": "stdout",
          "text": [
            "Printing class distibution below : \n",
            "   class_label  count_labels\n",
            "0            0          2961\n",
            "1            1          3423\n",
            "2            2          2948\n",
            "3            3          3073\n",
            "4            4          2926\n",
            "5            5          2709\n",
            "6            6          2975\n",
            "7            7          3107\n",
            "8            8          2875\n",
            "9            9          3003\n",
            "30000\n",
            "30000\n"
          ]
        }
      ]
    },
    {
      "cell_type": "code",
      "metadata": {
        "colab": {
          "base_uri": "https://localhost:8080/"
        },
        "id": "94e7NAN5RBqX",
        "outputId": "1df42dcf-bc6a-4063-f012-be3a5faa2f87"
      },
      "source": [
        "def prepare_my_dataset(lst_imgs: list, lst_labels: list):\n",
        "  \"\"\"\n",
        "  This function will prepare the dataset as per the below requirement :\n",
        "  Creates the tensor of input images\n",
        "  Creates the random input numbers same as size of input images & creates the one hot encoded vectors of each obs\n",
        "  Creates the tensor of output image labels\n",
        "  Creates the target sum which is sum of input random number and image label\n",
        "  \"\"\"\n",
        "  inp_images = torch.stack(lst_imgs)\n",
        "  out_img_labels = torch.tensor(lst_labels)\n",
        "\n",
        "  i = 0\n",
        "  while i!=10:\n",
        "    inp_rand_np = np.random.randint(0,10,len(out_img_labels))\n",
        "    i = pd.Series(inp_rand_np).nunique()\n",
        "    print(f\"Number of unique values in my random set '{i}'\")\n",
        "\n",
        "  inp_rand = torch.tensor(inp_rand_np)\n",
        "  out_sum = inp_rand + out_img_labels\n",
        "\n",
        "  inp_rand_ohe = torch.tensor([create_one_hotencoding_inp(x) for x in inp_rand_np])\n",
        "  return(inp_images, inp_rand_ohe, out_img_labels, out_sum)\n",
        "\n",
        "inp_images, inp_rand_ohe, out_img_labels, out_sum = prepare_my_dataset(lst_imgs, lst_labels)\n",
        "print(inp_images.shape)\n",
        "print(inp_rand_ohe.shape)\n",
        "print(out_img_labels.shape)\n",
        "print(out_sum.shape)"
      ],
      "execution_count": 4,
      "outputs": [
        {
          "output_type": "stream",
          "name": "stdout",
          "text": [
            "Number of unique values in my random set '10'\n",
            "torch.Size([30000, 1, 28, 28])\n",
            "torch.Size([30000, 10])\n",
            "torch.Size([30000])\n",
            "torch.Size([30000])\n"
          ]
        }
      ]
    },
    {
      "cell_type": "code",
      "metadata": {
        "colab": {
          "base_uri": "https://localhost:8080/"
        },
        "id": "dqXGsxT39_hD",
        "outputId": "026bc1f7-01a3-4f81-a4d2-9cbfa5047d5d"
      },
      "source": [
        "# Assigning all the input tensors to cuda\n",
        "print(\"device before allocating to cuda : \",inp_images.device, inp_rand_ohe.device, out_img_labels.device, out_sum.device)\n",
        "inp_images, inp_rand_ohe, out_img_labels, out_sum = inp_images.cuda(), inp_rand_ohe.cuda(), out_img_labels.cuda(), out_sum.cuda()\n",
        "print(\"device after allocating to cuda : \",inp_images.device, inp_rand_ohe.device, out_img_labels.device, out_sum.device)"
      ],
      "execution_count": 5,
      "outputs": [
        {
          "output_type": "stream",
          "name": "stdout",
          "text": [
            "device before allocating to cuda :  cpu cpu cpu cpu\n",
            "device after allocating to cuda :  cuda:0 cuda:0 cuda:0 cuda:0\n"
          ]
        }
      ]
    },
    {
      "cell_type": "code",
      "metadata": {
        "id": "1QVNfkFXFgFY",
        "colab": {
          "base_uri": "https://localhost:8080/"
        },
        "outputId": "c883fbd6-61cf-4442-f022-fb4906037017"
      },
      "source": [
        "from torch.utils.data import Dataset\n",
        "\n",
        "# Creating the Custom dataset using previously created data so that we can use this dataset object to create batches later\n",
        "class CustomMnistDataset(Dataset):\n",
        "  def __init__(self):\n",
        "    self.data = []\n",
        "    for i in range(0,len(out_sum)):\n",
        "      self.data.append([inp_images[i], inp_rand_ohe[i], out_img_labels[i], out_sum[i]])\n",
        "\n",
        "  def __getitem__(self, index):\n",
        "    return self.data[index]\n",
        "    \n",
        "  def __len__(self):\n",
        "    return len(self.data)\n",
        "\n",
        "myDataset = CustomMnistDataset()\n",
        "len(myDataset)"
      ],
      "execution_count": 6,
      "outputs": [
        {
          "output_type": "execute_result",
          "data": {
            "text/plain": [
              "30000"
            ]
          },
          "metadata": {},
          "execution_count": 6
        }
      ]
    },
    {
      "cell_type": "code",
      "metadata": {
        "id": "HXKK0eARSRR3",
        "colab": {
          "base_uri": "https://localhost:8080/"
        },
        "outputId": "f1a9c8e9-da11-4afb-f77a-9d6d9c03c654"
      },
      "source": [
        "# creating train_loader so that we can load data in batches while training\n",
        "train_loader = torch.utils.data.DataLoader(myDataset\n",
        "    ,batch_size=32\n",
        "    ,shuffle=True\n",
        ")\n",
        "\n",
        "len(train_loader)"
      ],
      "execution_count": 7,
      "outputs": [
        {
          "output_type": "execute_result",
          "data": {
            "text/plain": [
              "938"
            ]
          },
          "metadata": {},
          "execution_count": 7
        }
      ]
    },
    {
      "cell_type": "code",
      "metadata": {
        "colab": {
          "base_uri": "https://localhost:8080/"
        },
        "id": "i376ED-SSRQH",
        "outputId": "855fb232-e3ad-431c-fefb-a34427b95fd2"
      },
      "source": [
        "# Printing the size of first 3 batches\n",
        "i=0\n",
        "for tr in train_loader:\n",
        "  print(tr[0].shape, tr[1].shape, tr[2].shape, tr[3].shape)\n",
        "  i+=1\n",
        "  if i==3:\n",
        "    break;"
      ],
      "execution_count": 8,
      "outputs": [
        {
          "output_type": "stream",
          "name": "stdout",
          "text": [
            "torch.Size([32, 1, 28, 28]) torch.Size([32, 10]) torch.Size([32]) torch.Size([32])\n",
            "torch.Size([32, 1, 28, 28]) torch.Size([32, 10]) torch.Size([32]) torch.Size([32])\n",
            "torch.Size([32, 1, 28, 28]) torch.Size([32, 10]) torch.Size([32]) torch.Size([32])\n"
          ]
        }
      ]
    },
    {
      "cell_type": "markdown",
      "metadata": {
        "id": "4yli7pGpvY5s"
      },
      "source": [
        "# Model Building :"
      ]
    },
    {
      "cell_type": "code",
      "metadata": {
        "id": "OL3NOIEInyc5"
      },
      "source": [
        "import torch.nn.functional as F\n",
        "import torch.nn as nn"
      ],
      "execution_count": 9,
      "outputs": []
    },
    {
      "cell_type": "code",
      "metadata": {
        "id": "3K5NLANk114C"
      },
      "source": [
        "class Network(nn.Module):\n",
        "  def __init__(self):\n",
        "    super().__init__()\n",
        "    #28 - > 24 - > 12 -> 8 -> 4\n",
        "    self.conv1 = nn.Conv2d(in_channels=1, out_channels=6, kernel_size=5) \n",
        "    self.conv2 = nn.Conv2d(in_channels=6, out_channels=12, kernel_size=5)\n",
        "    self.fc1 = nn.Linear(in_features=(12 * 4 * 4)+10, out_features=120)\n",
        "    self.fc2 = nn.Linear(in_features=120, out_features=60)\n",
        "    self.out1 = nn.Linear(in_features=60, out_features=10)\n",
        "    self.out2 = nn.Linear(in_features=60, out_features=19)\n",
        "  \n",
        "  def forward(self, t1, t2):\n",
        "    # input layer\n",
        "    x, y = t1, t2\n",
        "\n",
        "    # conv1 layer\n",
        "    x = self.conv1(x)\n",
        "    x = F.relu(x)\n",
        "    x = F.max_pool2d(x, kernel_size=2, stride=2) # 28 | 24 | 12\n",
        "\n",
        "    # conv2 layer\n",
        "    x = self.conv2(x)\n",
        "    x = F.relu(x)\n",
        "    x = F.max_pool2d(x, kernel_size=2, stride=2) # 12 | 8 | 4 >> 12x4x4\n",
        "\n",
        "    # reshapre\n",
        "    x = x.reshape(-1, 12 * 4 * 4)\n",
        "    z = torch.cat((x,y.reshape(-1,10)), dim=1)\n",
        "    \n",
        "    # fc1 layer\n",
        "    z = self.fc1(z)\n",
        "    z = F.relu(z)\n",
        "\n",
        "    # fc2 layer\n",
        "    z = self.fc2(z)\n",
        "    z = F.relu(z)\n",
        "\n",
        "    # output layer 1\n",
        "    o1 = self.out1(z)\n",
        "    o1 = F.softmax(o1, dim=1)\n",
        "\n",
        "    # output layer 2\n",
        "    o2 = self.out2(z)\n",
        "    o2 = F.softmax(o2, dim=1)\n",
        "    return o1, o2"
      ],
      "execution_count": 10,
      "outputs": []
    },
    {
      "cell_type": "code",
      "metadata": {
        "colab": {
          "base_uri": "https://localhost:8080/"
        },
        "id": "INpFWsIg47BJ",
        "outputId": "23ecc134-851d-479b-a4db-fbf5826b7240"
      },
      "source": [
        "network = Network()\n",
        "\n",
        "print(network)"
      ],
      "execution_count": 11,
      "outputs": [
        {
          "output_type": "stream",
          "name": "stdout",
          "text": [
            "Network(\n",
            "  (conv1): Conv2d(1, 6, kernel_size=(5, 5), stride=(1, 1))\n",
            "  (conv2): Conv2d(6, 12, kernel_size=(5, 5), stride=(1, 1))\n",
            "  (fc1): Linear(in_features=202, out_features=120, bias=True)\n",
            "  (fc2): Linear(in_features=120, out_features=60, bias=True)\n",
            "  (out1): Linear(in_features=60, out_features=10, bias=True)\n",
            "  (out2): Linear(in_features=60, out_features=19, bias=True)\n",
            ")\n"
          ]
        }
      ]
    },
    {
      "cell_type": "code",
      "metadata": {
        "id": "5ZyLgfAK-mPi"
      },
      "source": [
        "# Assigning my network parameters to cuda as well\n",
        "network = network.cuda()"
      ],
      "execution_count": 12,
      "outputs": []
    },
    {
      "cell_type": "code",
      "metadata": {
        "colab": {
          "base_uri": "https://localhost:8080/"
        },
        "id": "AcZHjEdl5OVo",
        "outputId": "6ae31a59-28bf-4bc5-f3c9-31b4724b78b1"
      },
      "source": [
        "import torch.optim as optim\n",
        "\n",
        "torch.set_grad_enabled(True)"
      ],
      "execution_count": 13,
      "outputs": [
        {
          "output_type": "execute_result",
          "data": {
            "text/plain": [
              "<torch.autograd.grad_mode.set_grad_enabled at 0x7fa979ed8dd0>"
            ]
          },
          "metadata": {},
          "execution_count": 13
        }
      ]
    },
    {
      "cell_type": "code",
      "metadata": {
        "id": "Iev6EmMhd2Pm"
      },
      "source": [
        "def get_num_correct(preds, labels):\n",
        "  return preds.argmax(dim=1).eq(labels).sum().item()"
      ],
      "execution_count": 14,
      "outputs": []
    },
    {
      "cell_type": "code",
      "metadata": {
        "colab": {
          "base_uri": "https://localhost:8080/"
        },
        "id": "38jIyDf-cZ3T",
        "outputId": "504dff09-bedf-4140-aca9-f5fa54f44dff"
      },
      "source": [
        "optimizer = optim.Adam(network.parameters(), lr=0.001)\n",
        "num_epochs = 100\n",
        "for epoch in range(num_epochs):\n",
        "\n",
        "    total_loss = 0\n",
        "    total_correct_labels = 0\n",
        "    total_correct_sum = 0\n",
        "\n",
        "    for batch in train_loader: # Get Batch\n",
        "        i_images, i_rand, o_labels, o_sum = batch \n",
        "\n",
        "        preds_labels, preds_sum = network(i_images, i_rand.float()) # Pass Batch\n",
        "        loss1 = F.cross_entropy(preds_labels, o_labels) # Calculate Loss\n",
        "        loss2 = F.cross_entropy(preds_sum, o_sum) # Calculate Loss\n",
        "        loss = loss1 + loss2\n",
        "\n",
        "        optimizer.zero_grad()\n",
        "        loss.backward() # Calculate Gradients\n",
        "        optimizer.step() # Update Weights\n",
        "\n",
        "        total_loss += loss.item()\n",
        "        total_correct_labels += get_num_correct(preds_labels, o_labels)\n",
        "        total_correct_sum += get_num_correct(preds_sum, o_sum)\n",
        "\n",
        "    print(\n",
        "        \"epoch\", epoch, \n",
        "        \" | total_correct_labels:\", total_correct_labels,\n",
        "        \"/\",round((total_correct_labels/len(inp_rand_ohe))*100,2),\"%\",\n",
        "        \" | total_correct_sum:\", total_correct_sum, \n",
        "        \"/\",round((total_correct_sum/len(inp_rand_ohe))*100,2),\"%\",\n",
        "        \" | loss:\", total_loss\n",
        "    )"
      ],
      "execution_count": 15,
      "outputs": [
        {
          "output_type": "stream",
          "name": "stderr",
          "text": [
            "/usr/local/lib/python3.7/dist-packages/torch/nn/functional.py:718: UserWarning: Named tensors and all their associated APIs are an experimental feature and subject to change. Please do not use them for anything important until they are released as stable. (Triggered internally at  /pytorch/c10/core/TensorImpl.h:1156.)\n",
            "  return torch.max_pool2d(input, kernel_size, stride, padding, dilation, ceil_mode)\n"
          ]
        },
        {
          "output_type": "stream",
          "name": "stdout",
          "text": [
            "epoch 0  | total_correct_labels: 22683 / 75.61 %  | total_correct_sum: 2933 / 9.78 %  | loss: 4343.642276287079\n",
            "epoch 1  | total_correct_labels: 28595 / 95.32 %  | total_correct_sum: 3527 / 11.76 %  | loss: 4138.888205051422\n",
            "epoch 2  | total_correct_labels: 28922 / 96.41 %  | total_correct_sum: 6319 / 21.06 %  | loss: 4059.9134788513184\n",
            "epoch 3  | total_correct_labels: 29047 / 96.82 %  | total_correct_sum: 11405 / 38.02 %  | loss: 3906.726266145706\n",
            "epoch 4  | total_correct_labels: 29234 / 97.45 %  | total_correct_sum: 13261 / 44.2 %  | loss: 3830.9711167812347\n",
            "epoch 5  | total_correct_labels: 29347 / 97.82 %  | total_correct_sum: 13721 / 45.74 %  | loss: 3808.318681716919\n",
            "epoch 6  | total_correct_labels: 29407 / 98.02 %  | total_correct_sum: 13942 / 46.47 %  | loss: 3796.4209303855896\n",
            "epoch 7  | total_correct_labels: 29512 / 98.37 %  | total_correct_sum: 13995 / 46.65 %  | loss: 3790.6346876621246\n",
            "epoch 8  | total_correct_labels: 29566 / 98.55 %  | total_correct_sum: 14288 / 47.63 %  | loss: 3779.3786714076996\n",
            "epoch 9  | total_correct_labels: 29631 / 98.77 %  | total_correct_sum: 14480 / 48.27 %  | loss: 3770.7530987262726\n",
            "epoch 10  | total_correct_labels: 29646 / 98.82 %  | total_correct_sum: 14657 / 48.86 %  | loss: 3763.8622982501984\n",
            "epoch 11  | total_correct_labels: 29679 / 98.93 %  | total_correct_sum: 15285 / 50.95 %  | loss: 3743.472644329071\n",
            "epoch 12  | total_correct_labels: 29695 / 98.98 %  | total_correct_sum: 15848 / 52.83 %  | loss: 3725.0967712402344\n",
            "epoch 13  | total_correct_labels: 29731 / 99.1 %  | total_correct_sum: 15946 / 53.15 %  | loss: 3719.758322954178\n",
            "epoch 14  | total_correct_labels: 29731 / 99.1 %  | total_correct_sum: 15969 / 53.23 %  | loss: 3719.1138627529144\n",
            "epoch 15  | total_correct_labels: 29770 / 99.23 %  | total_correct_sum: 16286 / 54.29 %  | loss: 3707.7213184833527\n",
            "epoch 16  | total_correct_labels: 29781 / 99.27 %  | total_correct_sum: 16298 / 54.33 %  | loss: 3706.1151263713837\n",
            "epoch 17  | total_correct_labels: 29790 / 99.3 %  | total_correct_sum: 16426 / 54.75 %  | loss: 3701.8615202903748\n",
            "epoch 18  | total_correct_labels: 29809 / 99.36 %  | total_correct_sum: 17320 / 57.73 %  | loss: 3674.911979675293\n",
            "epoch 19  | total_correct_labels: 29830 / 99.43 %  | total_correct_sum: 18564 / 61.88 %  | loss: 3635.363618373871\n",
            "epoch 20  | total_correct_labels: 29847 / 99.49 %  | total_correct_sum: 19013 / 63.38 %  | loss: 3620.6107835769653\n",
            "epoch 21  | total_correct_labels: 29824 / 99.41 %  | total_correct_sum: 19498 / 64.99 %  | loss: 3606.420508146286\n",
            "epoch 22  | total_correct_labels: 29846 / 99.49 %  | total_correct_sum: 20429 / 68.1 %  | loss: 3577.560647010803\n",
            "epoch 23  | total_correct_labels: 29837 / 99.46 %  | total_correct_sum: 20879 / 69.6 %  | loss: 3563.3039407730103\n",
            "epoch 24  | total_correct_labels: 29874 / 99.58 %  | total_correct_sum: 21014 / 70.05 %  | loss: 3557.24804520607\n",
            "epoch 25  | total_correct_labels: 29860 / 99.53 %  | total_correct_sum: 21124 / 70.41 %  | loss: 3554.330409526825\n",
            "epoch 26  | total_correct_labels: 29859 / 99.53 %  | total_correct_sum: 21307 / 71.02 %  | loss: 3548.718550682068\n",
            "epoch 27  | total_correct_labels: 29875 / 99.58 %  | total_correct_sum: 21313 / 71.04 %  | loss: 3547.1447200775146\n",
            "epoch 28  | total_correct_labels: 29854 / 99.51 %  | total_correct_sum: 21321 / 71.07 %  | loss: 3547.7654523849487\n",
            "epoch 29  | total_correct_labels: 29879 / 99.6 %  | total_correct_sum: 21328 / 71.09 %  | loss: 3546.58425450325\n",
            "epoch 30  | total_correct_labels: 29880 / 99.6 %  | total_correct_sum: 21335 / 71.12 %  | loss: 3546.0490119457245\n",
            "epoch 31  | total_correct_labels: 29893 / 99.64 %  | total_correct_sum: 21332 / 71.11 %  | loss: 3545.8654403686523\n",
            "epoch 32  | total_correct_labels: 29892 / 99.64 %  | total_correct_sum: 21431 / 71.44 %  | loss: 3542.823474884033\n",
            "epoch 33  | total_correct_labels: 29895 / 99.65 %  | total_correct_sum: 21645 / 72.15 %  | loss: 3536.0319678783417\n",
            "epoch 34  | total_correct_labels: 29906 / 99.69 %  | total_correct_sum: 21699 / 72.33 %  | loss: 3533.946453809738\n",
            "epoch 35  | total_correct_labels: 29905 / 99.68 %  | total_correct_sum: 21881 / 72.94 %  | loss: 3528.1153569221497\n",
            "epoch 36  | total_correct_labels: 29902 / 99.67 %  | total_correct_sum: 21888 / 72.96 %  | loss: 3527.618245601654\n",
            "epoch 37  | total_correct_labels: 29889 / 99.63 %  | total_correct_sum: 22297 / 74.32 %  | loss: 3516.7077593803406\n",
            "epoch 38  | total_correct_labels: 29919 / 99.73 %  | total_correct_sum: 22501 / 75.0 %  | loss: 3508.8884127140045\n",
            "epoch 39  | total_correct_labels: 29894 / 99.65 %  | total_correct_sum: 22558 / 75.19 %  | loss: 3507.9802565574646\n",
            "epoch 40  | total_correct_labels: 29915 / 99.72 %  | total_correct_sum: 22803 / 76.01 %  | loss: 3499.64236164093\n",
            "epoch 41  | total_correct_labels: 29895 / 99.65 %  | total_correct_sum: 23004 / 76.68 %  | loss: 3494.2036731243134\n",
            "epoch 42  | total_correct_labels: 29890 / 99.63 %  | total_correct_sum: 23006 / 76.69 %  | loss: 3494.338627576828\n",
            "epoch 43  | total_correct_labels: 29928 / 99.76 %  | total_correct_sum: 23020 / 76.73 %  | loss: 3492.0550870895386\n",
            "epoch 44  | total_correct_labels: 29922 / 99.74 %  | total_correct_sum: 23023 / 76.74 %  | loss: 3492.1130187511444\n",
            "epoch 45  | total_correct_labels: 29943 / 99.81 %  | total_correct_sum: 23032 / 76.77 %  | loss: 3490.837609052658\n",
            "epoch 46  | total_correct_labels: 29932 / 99.77 %  | total_correct_sum: 23035 / 76.78 %  | loss: 3491.6595385074615\n",
            "epoch 47  | total_correct_labels: 29894 / 99.65 %  | total_correct_sum: 23304 / 77.68 %  | loss: 3485.0767912864685\n",
            "epoch 48  | total_correct_labels: 29910 / 99.7 %  | total_correct_sum: 23316 / 77.72 %  | loss: 3483.709615945816\n",
            "epoch 49  | total_correct_labels: 29943 / 99.81 %  | total_correct_sum: 23356 / 77.85 %  | loss: 3481.0380566120148\n",
            "epoch 50  | total_correct_labels: 29921 / 99.74 %  | total_correct_sum: 23850 / 79.5 %  | loss: 3467.199858903885\n",
            "epoch 51  | total_correct_labels: 29931 / 99.77 %  | total_correct_sum: 23920 / 79.73 %  | loss: 3464.846992969513\n",
            "epoch 52  | total_correct_labels: 29935 / 99.78 %  | total_correct_sum: 23931 / 79.77 %  | loss: 3464.129353761673\n",
            "epoch 53  | total_correct_labels: 29945 / 99.82 %  | total_correct_sum: 23939 / 79.8 %  | loss: 3463.169775247574\n",
            "epoch 54  | total_correct_labels: 29913 / 99.71 %  | total_correct_sum: 23905 / 79.68 %  | loss: 3465.13681101799\n",
            "epoch 55  | total_correct_labels: 29950 / 99.83 %  | total_correct_sum: 23937 / 79.79 %  | loss: 3462.8963096141815\n",
            "epoch 56  | total_correct_labels: 29941 / 99.8 %  | total_correct_sum: 23935 / 79.78 %  | loss: 3463.0139067173004\n",
            "epoch 57  | total_correct_labels: 29931 / 99.77 %  | total_correct_sum: 23929 / 79.76 %  | loss: 3463.7659242153168\n",
            "epoch 58  | total_correct_labels: 29930 / 99.77 %  | total_correct_sum: 23925 / 79.75 %  | loss: 3464.378406047821\n",
            "epoch 59  | total_correct_labels: 29950 / 99.83 %  | total_correct_sum: 23937 / 79.79 %  | loss: 3462.9724345207214\n",
            "epoch 60  | total_correct_labels: 29929 / 99.76 %  | total_correct_sum: 23927 / 79.76 %  | loss: 3464.364182472229\n",
            "epoch 61  | total_correct_labels: 29931 / 99.77 %  | total_correct_sum: 23925 / 79.75 %  | loss: 3463.9658057689667\n",
            "epoch 62  | total_correct_labels: 29926 / 99.75 %  | total_correct_sum: 23933 / 79.78 %  | loss: 3463.8903424739838\n",
            "epoch 63  | total_correct_labels: 29936 / 99.79 %  | total_correct_sum: 23933 / 79.78 %  | loss: 3463.4863290786743\n",
            "epoch 64  | total_correct_labels: 29940 / 99.8 %  | total_correct_sum: 23935 / 79.78 %  | loss: 3463.375376701355\n",
            "epoch 65  | total_correct_labels: 29940 / 99.8 %  | total_correct_sum: 23927 / 79.76 %  | loss: 3463.5391228199005\n",
            "epoch 66  | total_correct_labels: 29962 / 99.87 %  | total_correct_sum: 23946 / 79.82 %  | loss: 3461.8651583194733\n",
            "epoch 67  | total_correct_labels: 29949 / 99.83 %  | total_correct_sum: 24184 / 80.61 %  | loss: 3455.3110880851746\n",
            "epoch 68  | total_correct_labels: 29932 / 99.77 %  | total_correct_sum: 24275 / 80.92 %  | loss: 3453.6045219898224\n",
            "epoch 69  | total_correct_labels: 29949 / 99.83 %  | total_correct_sum: 24287 / 80.96 %  | loss: 3452.2463970184326\n",
            "epoch 70  | total_correct_labels: 29936 / 99.79 %  | total_correct_sum: 24277 / 80.92 %  | loss: 3452.7978723049164\n",
            "epoch 71  | total_correct_labels: 29941 / 99.8 %  | total_correct_sum: 24274 / 80.91 %  | loss: 3453.120053291321\n",
            "epoch 72  | total_correct_labels: 29939 / 99.8 %  | total_correct_sum: 24273 / 80.91 %  | loss: 3452.9729738235474\n",
            "epoch 73  | total_correct_labels: 29954 / 99.85 %  | total_correct_sum: 24289 / 80.96 %  | loss: 3451.818320274353\n",
            "epoch 74  | total_correct_labels: 29950 / 99.83 %  | total_correct_sum: 24288 / 80.96 %  | loss: 3451.8126657009125\n",
            "epoch 75  | total_correct_labels: 29940 / 99.8 %  | total_correct_sum: 24277 / 80.92 %  | loss: 3452.7291254997253\n",
            "epoch 76  | total_correct_labels: 29947 / 99.82 %  | total_correct_sum: 24288 / 80.96 %  | loss: 3452.17068195343\n",
            "epoch 77  | total_correct_labels: 29968 / 99.89 %  | total_correct_sum: 24297 / 80.99 %  | loss: 3450.699605703354\n",
            "epoch 78  | total_correct_labels: 29969 / 99.9 %  | total_correct_sum: 24297 / 80.99 %  | loss: 3450.2685894966125\n",
            "epoch 79  | total_correct_labels: 29902 / 99.67 %  | total_correct_sum: 24260 / 80.87 %  | loss: 3454.8728992938995\n",
            "epoch 80  | total_correct_labels: 29931 / 99.77 %  | total_correct_sum: 24284 / 80.95 %  | loss: 3452.8211476802826\n",
            "epoch 81  | total_correct_labels: 29950 / 99.83 %  | total_correct_sum: 24288 / 80.96 %  | loss: 3452.0823731422424\n",
            "epoch 82  | total_correct_labels: 29959 / 99.86 %  | total_correct_sum: 24288 / 80.96 %  | loss: 3451.7018542289734\n",
            "epoch 83  | total_correct_labels: 29952 / 99.84 %  | total_correct_sum: 24294 / 80.98 %  | loss: 3451.3384234905243\n",
            "epoch 84  | total_correct_labels: 29951 / 99.84 %  | total_correct_sum: 24290 / 80.97 %  | loss: 3451.5886418819427\n",
            "epoch 85  | total_correct_labels: 29956 / 99.85 %  | total_correct_sum: 24284 / 80.95 %  | loss: 3451.7453439235687\n",
            "epoch 86  | total_correct_labels: 29931 / 99.77 %  | total_correct_sum: 24278 / 80.93 %  | loss: 3452.929561138153\n",
            "epoch 87  | total_correct_labels: 29958 / 99.86 %  | total_correct_sum: 24283 / 80.94 %  | loss: 3451.568645477295\n",
            "epoch 88  | total_correct_labels: 29967 / 99.89 %  | total_correct_sum: 24297 / 80.99 %  | loss: 3450.4921522140503\n",
            "epoch 89  | total_correct_labels: 29925 / 99.75 %  | total_correct_sum: 24274 / 80.91 %  | loss: 3453.460672855377\n",
            "epoch 90  | total_correct_labels: 29954 / 99.85 %  | total_correct_sum: 24292 / 80.97 %  | loss: 3451.5346150398254\n",
            "epoch 91  | total_correct_labels: 29933 / 99.78 %  | total_correct_sum: 24312 / 81.04 %  | loss: 3451.56968998909\n",
            "epoch 92  | total_correct_labels: 29946 / 99.82 %  | total_correct_sum: 24594 / 81.98 %  | loss: 3442.7339725494385\n",
            "epoch 93  | total_correct_labels: 29944 / 99.81 %  | total_correct_sum: 24598 / 81.99 %  | loss: 3442.9750261306763\n",
            "epoch 94  | total_correct_labels: 29967 / 99.89 %  | total_correct_sum: 24610 / 82.03 %  | loss: 3441.266167640686\n",
            "epoch 95  | total_correct_labels: 29958 / 99.86 %  | total_correct_sum: 24607 / 82.02 %  | loss: 3441.528431415558\n",
            "epoch 96  | total_correct_labels: 29941 / 99.8 %  | total_correct_sum: 24587 / 81.96 %  | loss: 3442.9206795692444\n",
            "epoch 97  | total_correct_labels: 29948 / 99.83 %  | total_correct_sum: 24603 / 82.01 %  | loss: 3442.327206134796\n",
            "epoch 98  | total_correct_labels: 29956 / 99.85 %  | total_correct_sum: 24596 / 81.99 %  | loss: 3442.1709427833557\n",
            "epoch 99  | total_correct_labels: 29971 / 99.9 %  | total_correct_sum: 24609 / 82.03 %  | loss: 3440.953696012497\n"
          ]
        }
      ]
    },
    {
      "cell_type": "markdown",
      "metadata": {
        "id": "nsbcnqw1CQki"
      },
      "source": [
        "# Inference :"
      ]
    },
    {
      "cell_type": "code",
      "metadata": {
        "id": "be-ygBp9Iyyi"
      },
      "source": [
        "import matplotlib.pyplot as plt"
      ],
      "execution_count": 16,
      "outputs": []
    },
    {
      "cell_type": "code",
      "metadata": {
        "colab": {
          "base_uri": "https://localhost:8080/",
          "height": 491
        },
        "id": "bHVpm15DCAto",
        "outputId": "7ea6806a-8afc-4de8-a827-7fcdc478eb38"
      },
      "source": [
        "random_index = np.random.randint(100,inp_images.shape[0], 1)[0]\n",
        "print(f\"Index is : '{random_index}'\")\n",
        "inp_rnd_num_inf = np.random.randint(0,9,1)[0]\n",
        "print(f\"Input Number is : '{inp_rnd_num_inf}'\")\n",
        "\n",
        "inp_rnd_num_inf_ohe = create_one_hotencoding_inp(inp_rnd_num_inf).reshape(1,10)\n",
        "inp_rnd_num_inf_ohe = torch.tensor(inp_rnd_num_inf_ohe).cuda()\n",
        "print(f\"Shape of my inp rand number : {inp_rnd_num_inf_ohe.shape}\")\n",
        "inp_img_inf = inp_images[random_index].reshape(1,1,28,28)\n",
        "print(f\"Shape of my input image : {inp_img_inf.shape}\")\n",
        "\n",
        "print(\"\\n\\n--------------------------------------------------------------------------------------------\\n\\n\")\n",
        "\n",
        "image = inp_img_inf.cpu().detach()\n",
        "label = out_img_labels[random_index]\n",
        "plt.imshow(image.squeeze(), cmap='gray')\n",
        "print('Actual image label is :', label.cpu().detach().numpy())\n",
        "\n",
        "pred_img_label, pred_sum_label = network(inp_img_inf, inp_rnd_num_inf_ohe.float())\n",
        "print(f\"Actual input random number is : {inp_rnd_num_inf}\")\n",
        "print(f\"Predicted image label is : {pred_img_label.argmax().cpu().detach().numpy()}\")\n",
        "print(f\"Predicted sum label is : {pred_sum_label.argmax().cpu().detach().numpy()}\")"
      ],
      "execution_count": 17,
      "outputs": [
        {
          "output_type": "stream",
          "name": "stdout",
          "text": [
            "Index is : '9543'\n",
            "Input Number is : '5'\n",
            "Shape of my inp rand number : torch.Size([1, 10])\n",
            "Shape of my input image : torch.Size([1, 1, 28, 28])\n",
            "\n",
            "\n",
            "--------------------------------------------------------------------------------------------\n",
            "\n",
            "\n",
            "Actual image label is : 8\n",
            "Actual input random number is : 5\n",
            "Predicted image label is : 8\n",
            "Predicted sum label is : 13\n"
          ]
        },
        {
          "output_type": "display_data",
          "data": {
            "image/png": "[encoded data removed]",
            "text/plain": [
              "<Figure size 432x288 with 1 Axes>"
            ]
          },
          "metadata": {
            "needs_background": "light"
          }
        }
      ]
    },
    {
      "cell_type": "code",
      "metadata": {
        "colab": {
          "base_uri": "https://localhost:8080/",
          "height": 491
        },
        "id": "O6LClPEFF9-d",
        "outputId": "ec63b1a7-9778-4c9b-f7e8-74b7a48bdb6f"
      },
      "source": [
        "random_index = np.random.randint(100,inp_images.shape[0], 1)[0]\n",
        "print(f\"Index is : '{random_index}'\")\n",
        "inp_rnd_num_inf = np.random.randint(0,9,1)[0]\n",
        "print(f\"Input Number is : '{inp_rnd_num_inf}'\")\n",
        "\n",
        "inp_rnd_num_inf_ohe = create_one_hotencoding_inp(inp_rnd_num_inf).reshape(1,10)\n",
        "inp_rnd_num_inf_ohe = torch.tensor(inp_rnd_num_inf_ohe).cuda()\n",
        "print(f\"Shape of my inp rand number : {inp_rnd_num_inf_ohe.shape}\")\n",
        "inp_img_inf = inp_images[random_index].reshape(1,1,28,28)\n",
        "print(f\"Shape of my input image : {inp_img_inf.shape}\")\n",
        "\n",
        "print(\"\\n\\n--------------------------------------------------------------------------------------------\\n\\n\")\n",
        "\n",
        "image = inp_img_inf.cpu().detach()\n",
        "label = out_img_labels[random_index]\n",
        "plt.imshow(image.squeeze(), cmap='gray')\n",
        "print('Actual image label is :', label.cpu().detach().numpy())\n",
        "\n",
        "pred_img_label, pred_sum_label = network(inp_img_inf, inp_rnd_num_inf_ohe.float())\n",
        "print(f\"Actual input random number is : {inp_rnd_num_inf}\")\n",
        "print(f\"Predicted image label is : {pred_img_label.argmax().cpu().detach().numpy()}\")\n",
        "print(f\"Predicted sum label is : {pred_sum_label.argmax().cpu().detach().numpy()}\")"
      ],
      "execution_count": 18,
      "outputs": [
        {
          "output_type": "stream",
          "name": "stdout",
          "text": [
            "Index is : '10394'\n",
            "Input Number is : '5'\n",
            "Shape of my inp rand number : torch.Size([1, 10])\n",
            "Shape of my input image : torch.Size([1, 1, 28, 28])\n",
            "\n",
            "\n",
            "--------------------------------------------------------------------------------------------\n",
            "\n",
            "\n",
            "Actual image label is : 7\n",
            "Actual input random number is : 5\n",
            "Predicted image label is : 7\n",
            "Predicted sum label is : 12\n"
          ]
        },
        {
          "output_type": "display_data",
          "data": {
            "image/png": "[encoded data removed]",
            "text/plain": [
              "<Figure size 432x288 with 1 Axes>"
            ]
          },
          "metadata": {
            "needs_background": "light"
          }
        }
      ]
    },
    {
      "cell_type": "code",
      "metadata": {
        "colab": {
          "base_uri": "https://localhost:8080/",
          "height": 491
        },
        "id": "_3mWKdUOKEKG",
        "outputId": "0f952fa1-9d78-4145-ee60-c936909a7b29"
      },
      "source": [
        "random_index = np.random.randint(100,inp_images.shape[0], 1)[0]\n",
        "print(f\"Index is : '{random_index}'\")\n",
        "inp_rnd_num_inf = np.random.randint(0,9,1)[0]\n",
        "print(f\"Input Number is : '{inp_rnd_num_inf}'\")\n",
        "\n",
        "inp_rnd_num_inf_ohe = create_one_hotencoding_inp(inp_rnd_num_inf).reshape(1,10)\n",
        "inp_rnd_num_inf_ohe = torch.tensor(inp_rnd_num_inf_ohe).cuda()\n",
        "print(f\"Shape of my inp rand number : {inp_rnd_num_inf_ohe.shape}\")\n",
        "inp_img_inf = inp_images[random_index].reshape(1,1,28,28)\n",
        "print(f\"Shape of my input image : {inp_img_inf.shape}\")\n",
        "\n",
        "print(\"\\n\\n--------------------------------------------------------------------------------------------\\n\\n\")\n",
        "\n",
        "image = inp_img_inf.cpu().detach()\n",
        "label = out_img_labels[random_index]\n",
        "plt.imshow(image.squeeze(), cmap='gray')\n",
        "print('Actual image label is :', label.cpu().detach().numpy())\n",
        "\n",
        "pred_img_label, pred_sum_label = network(inp_img_inf, inp_rnd_num_inf_ohe.float())\n",
        "print(f\"Actual input random number is : {inp_rnd_num_inf}\")\n",
        "print(f\"Predicted image label is : {pred_img_label.argmax().cpu().detach().numpy()}\")\n",
        "print(f\"Predicted sum label is : {pred_sum_label.argmax().cpu().detach().numpy()}\")"
      ],
      "execution_count": 19,
      "outputs": [
        {
          "output_type": "stream",
          "name": "stdout",
          "text": [
            "Index is : '10854'\n",
            "Input Number is : '3'\n",
            "Shape of my inp rand number : torch.Size([1, 10])\n",
            "Shape of my input image : torch.Size([1, 1, 28, 28])\n",
            "\n",
            "\n",
            "--------------------------------------------------------------------------------------------\n",
            "\n",
            "\n",
            "Actual image label is : 4\n",
            "Actual input random number is : 3\n",
            "Predicted image label is : 4\n",
            "Predicted sum label is : 7\n"
          ]
        },
        {
          "output_type": "display_data",
          "data": {
            "image/png": "[encoded data removed]",
            "text/plain": [
              "<Figure size 432x288 with 1 Axes>"
            ]
          },
          "metadata": {
            "needs_background": "light"
          }
        }
      ]
    },
    {
      "cell_type": "code",
      "metadata": {
        "colab": {
          "base_uri": "https://localhost:8080/",
          "height": 491
        },
        "id": "sRPdPmVyNcKu",
        "outputId": "168fd9d4-be4b-4214-8cf2-2c461f637732"
      },
      "source": [
        "random_index = np.random.randint(100,inp_images.shape[0], 1)[0]\n",
        "print(f\"Index is : '{random_index}'\")\n",
        "inp_rnd_num_inf = np.random.randint(0,9,1)[0]\n",
        "print(f\"Input Number is : '{inp_rnd_num_inf}'\")\n",
        "\n",
        "inp_rnd_num_inf_ohe = create_one_hotencoding_inp(inp_rnd_num_inf).reshape(1,10)\n",
        "inp_rnd_num_inf_ohe = torch.tensor(inp_rnd_num_inf_ohe).cuda()\n",
        "print(f\"Shape of my inp rand number : {inp_rnd_num_inf_ohe.shape}\")\n",
        "inp_img_inf = inp_images[random_index].reshape(1,1,28,28)\n",
        "print(f\"Shape of my input image : {inp_img_inf.shape}\")\n",
        "\n",
        "print(\"\\n\\n--------------------------------------------------------------------------------------------\\n\\n\")\n",
        "\n",
        "image = inp_img_inf.cpu().detach()\n",
        "label = out_img_labels[random_index]\n",
        "plt.imshow(image.squeeze(), cmap='gray')\n",
        "print('Actual image label is :', label.cpu().detach().numpy())\n",
        "\n",
        "pred_img_label, pred_sum_label = network(inp_img_inf, inp_rnd_num_inf_ohe.float())\n",
        "print(f\"Actual input random number is : {inp_rnd_num_inf}\")\n",
        "print(f\"Predicted image label is : {pred_img_label.argmax().cpu().detach().numpy()}\")\n",
        "print(f\"Predicted sum label is : {pred_sum_label.argmax().cpu().detach().numpy()}\")"
      ],
      "execution_count": 20,
      "outputs": [
        {
          "output_type": "stream",
          "name": "stdout",
          "text": [
            "Index is : '15331'\n",
            "Input Number is : '3'\n",
            "Shape of my inp rand number : torch.Size([1, 10])\n",
            "Shape of my input image : torch.Size([1, 1, 28, 28])\n",
            "\n",
            "\n",
            "--------------------------------------------------------------------------------------------\n",
            "\n",
            "\n",
            "Actual image label is : 7\n",
            "Actual input random number is : 3\n",
            "Predicted image label is : 7\n",
            "Predicted sum label is : 10\n"
          ]
        },
        {
          "output_type": "display_data",
          "data": {
            "image/png": "[encoded data removed]",
            "text/plain": [
              "<Figure size 432x288 with 1 Axes>"
            ]
          },
          "metadata": {
            "needs_background": "light"
          }
        }
      ]
    }
  ]
}